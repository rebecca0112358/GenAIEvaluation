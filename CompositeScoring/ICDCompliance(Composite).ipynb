{
 "cells": [
  {
   "cell_type": "code",
   "execution_count": 11,
   "id": "44786f2b-7745-426c-84c0-6a26d8822851",
   "metadata": {},
   "outputs": [
    {
     "name": "stdout",
     "output_type": "stream",
     "text": [
      "📝 Informed Consent Document — 21 CFR §50.25(a) Compliance Check:\n",
      "\n",
      "Statement of Research: ✔️ Present\n",
      "Risks: ✔️ Present\n",
      "Benefits: ✔️ Present\n",
      "Alternatives: ❌ Missing\n",
      "Confidentiality: ✔️ Present\n",
      "Compensation and Medical Treatment for Injury: ❌ Missing\n",
      "Contacts: ✔️ Present\n",
      "Voluntary Participation: ✔️ Present\n",
      "\n",
      "📊 Regulatory Completeness Score (RCS): 75.0%\n",
      "❌ Status: FAIL — Missing one or more required elements\n"
     ]
    }
   ],
   "source": [
    "!pip install --quiet python-docx\n",
    "\n",
    "import os\n",
    "from docx import Document\n",
    "\n",
    "# --- Path to your DOCX ---\n",
    "file_path = r\"C:\\Users\\rjone\\OneDrive - Waterworksai.com\\PharmaDS\\NewShortCourseMaterials\\SampleStudyDocuments\\icdv1.docx\"\n",
    "\n",
    "# --- Load text from DOCX ---\n",
    "def extract_text_from_docx(path):\n",
    "    doc = Document(path)\n",
    "    return \"\\n\".join([para.text for para in doc.paragraphs])\n",
    "\n",
    "# --- Updated 21 CFR §50.25(a) checklist with broader matching ---\n",
    "checklist = [\n",
    "    {\n",
    "        \"key\": \"research_statement\",\n",
    "        \"label\": \"Statement of Research\",\n",
    "        \"phrases\": [\"study involves research\", \"purpose of this study\", \"study purpose\", \"procedures\", \"experimental\"]\n",
    "    },\n",
    "    {\n",
    "        \"key\": \"risks\",\n",
    "        \"label\": \"Risks\",\n",
    "        \"phrases\": [\"potential risks\", \"possible risks\", \"side effects\", \"serious risks\", \"risk of\", \"unknown risks\"]\n",
    "    },\n",
    "    {\n",
    "        \"key\": \"benefits\",\n",
    "        \"label\": \"Benefits\",\n",
    "        \"phrases\": [\"potential benefits\", \"possible benefits\", \"expected benefits\", \"improvement\", \"contribution to treatment\"]\n",
    "    },\n",
    "    {\n",
    "        \"key\": \"alternatives\",\n",
    "        \"label\": \"Alternatives\",\n",
    "        \"phrases\": [\"alternative treatment\", \"other options\", \"other procedures\", \"alternatives\"]\n",
    "    },\n",
    "    {\n",
    "        \"key\": \"confidentiality\",\n",
    "        \"label\": \"Confidentiality\",\n",
    "        \"phrases\": [\"confidential\", \"HIPAA\", \"fda may inspect\", \"records will be kept\"]\n",
    "    },\n",
    "    {\n",
    "        \"key\": \"compensation_injury\",\n",
    "        \"label\": \"Compensation and Medical Treatment for Injury\",\n",
    "        \"phrases\": [\"medical treatment\", \"injury\", \"if you are injured\", \"compensation\"]\n",
    "    },\n",
    "    {\n",
    "        \"key\": \"contacts\",\n",
    "        \"label\": \"Contacts\",\n",
    "        \"phrases\": [\"contact\", \"questions\", \"study coordinator\", \"reach out\", \"phone\", \"email\"]\n",
    "    },\n",
    "    {\n",
    "        \"key\": \"voluntary_participation\",\n",
    "        \"label\": \"Voluntary Participation\",\n",
    "        \"phrases\": [\"voluntary\", \"you may withdraw\", \"without penalty\", \"your rights\", \"consent\", \"not affect your care\"]\n",
    "    }\n",
    "]\n",
    "\n",
    "# --- Evaluation function (case-insensitive partial match) ---\n",
    "def evaluate_document(text, checklist):\n",
    "    text_lower = text.lower()\n",
    "    results = []\n",
    "\n",
    "    for item in checklist:\n",
    "        found = any(phrase in text_lower for phrase in item[\"phrases\"])\n",
    "        results.append({\n",
    "            \"label\": item[\"label\"],\n",
    "            \"present\": found\n",
    "        })\n",
    "\n",
    "    return results\n",
    "\n",
    "# --- Run evaluation and show results ---\n",
    "doc_text = extract_text_from_docx(file_path)\n",
    "results = evaluate_document(doc_text, checklist)\n",
    "\n",
    "# --- Print detailed checklist results ---\n",
    "print(\"📝 Informed Consent Document — 21 CFR §50.25(a) Compliance Check:\\n\")\n",
    "for item in results:\n",
    "    status = \"✔️ Present\" if item[\"present\"] else \"❌ Missing\"\n",
    "    print(f\"{item['label']}: {status}\")\n",
    "\n",
    "# --- Calculate RCS and compliance status ---\n",
    "num_present = sum(1 for item in results if item[\"present\"])\n",
    "total_required = len(results)\n",
    "rcs_score = round((num_present / total_required) * 100, 1)\n",
    "compliant = rcs_score == 100.0\n",
    "\n",
    "# --- Print final result ---\n",
    "print(\"\\n📊 Regulatory Completeness Score (RCS): {:.1f}%\".format(rcs_score))\n",
    "if compliant:\n",
    "    print(\"✅ Status: PASS — Fully compliant with 21 CFR §50.25(a)\")\n",
    "else:\n",
    "    print(\"❌ Status: FAIL — Missing one or more required elements\")\n"
   ]
  },
  {
   "cell_type": "code",
   "execution_count": 7,
   "id": "da2dad61-a012-43fd-bffc-fbc524690235",
   "metadata": {},
   "outputs": [
    {
     "name": "stdout",
     "output_type": "stream",
     "text": [
      "File found: False\n"
     ]
    }
   ],
   "source": [
    "import os\n",
    "\n",
    "file_path = r\"C:\\Users\\RebeccaTaha\\OneDrive - Waterworksai.com\\PharmaDS\\NewShortCourseMaterials\\SampleStudyDocuments\\icdv1.docx\"\n",
    "\n",
    "print(\"File found:\", os.path.exists(file_path))\n"
   ]
  },
  {
   "cell_type": "code",
   "execution_count": null,
   "id": "462f59f3-f3a4-4297-91a9-89a3f2bec120",
   "metadata": {},
   "outputs": [],
   "source": []
  }
 ],
 "metadata": {
  "kernelspec": {
   "display_name": "Python 3.11 (py311_env)",
   "language": "python",
   "name": "py311_env"
  },
  "language_info": {
   "codemirror_mode": {
    "name": "ipython",
    "version": 3
   },
   "file_extension": ".py",
   "mimetype": "text/x-python",
   "name": "python",
   "nbconvert_exporter": "python",
   "pygments_lexer": "ipython3",
   "version": "3.11.11"
  }
 },
 "nbformat": 4,
 "nbformat_minor": 5
}
